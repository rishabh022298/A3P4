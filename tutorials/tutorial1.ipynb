{
 "cells": [
  {
   "cell_type": "markdown",
   "id": "728ef4af",
   "metadata": {},
   "source": [
    "# Tutorial 1: Bending of a Cantilever Beam (FEM vs Analytical)"
   ]
  },
  {
   "cell_type": "markdown",
   "id": "928577e1",
   "metadata": {},
   "source": [
    "Importing required libraries"
   ]
  },
  {
   "cell_type": "code",
   "execution_count": 22,
   "id": "f7ba610b",
   "metadata": {},
   "outputs": [],
   "source": [
    "from finiteelementanalysis import pre_process as pre\n",
    "from finiteelementanalysis import pre_process_demo_helper_fcns as pre_demo\n",
    "from finiteelementanalysis.solver import hyperelastic_solver\n",
    "from finiteelementanalysis import visualize as viz\n",
    "import matplotlib.pyplot as plt\n",
    "import numpy as np\n",
    "from pathlib import Path"
   ]
  },
  {
   "cell_type": "code",
   "execution_count": 23,
   "id": "81c91dcb",
   "metadata": {},
   "outputs": [],
   "source": [
    "# for saving files later\n",
    "tutorials_dir = Path.cwd()"
   ]
  },
  {
   "cell_type": "markdown",
   "id": "858fb84b",
   "metadata": {},
   "source": [
    "Initialization of the problemm and setting up the geometry"
   ]
  },
  {
   "cell_type": "code",
   "execution_count": 24,
   "id": "073a4e60",
   "metadata": {},
   "outputs": [],
   "source": [
    "# Set up a 2D cantilever beam under a uniform downward traction on the top edge.\n",
    "# The left edge (x=0) is clamped. For small deflection, compare the tip displacement\n",
    "# at x=L, y=H/2 with the Euler–Bernoulli beam formula:\n",
    "# For a cantilever of length L, height H, uniform load q, plane strain,\n",
    "#   Material:\n",
    "#         E = 100000, nu = 0.3.\n",
    "#     Derived:\n",
    "#         mu    = E/(2*(1+nu))\n",
    "#         kappa = E/(3*(1-2*nu))\n",
    "    \n",
    "#     Analytical tip deflection for a cantilever beam under uniform load q is:\n",
    "#         w(L) = q*L^4 / (8*E*I),   I = H^3/12.\n",
    "\n",
    "\n",
    "# --- Beam geometry ---\n",
    "L = 10.0   # length in x\n",
    "H = 1.0    # height in y\n",
    "nx = 30    # number of elements along length\n",
    "ny = 3     # number of elements along height\n",
    "\n",
    "ele_type = \"D2_nn6_tri\"  # 2D, 3-node triangle (quad)\n",
    "ndof = 2                  # 2 DOFs per node (x, y)"
   ]
  },
  {
   "cell_type": "markdown",
   "id": "69fad231",
   "metadata": {},
   "source": [
    "Mesh generation and fixing a boundary"
   ]
  },
  {
   "cell_type": "code",
   "execution_count": 25,
   "id": "34591ffb",
   "metadata": {},
   "outputs": [],
   "source": [
    "# Generate a rectangular mesh\n",
    "coords, connect = pre.generate_rect_mesh_2d(ele_type, 0.0, 0.0, L, H, nx, ny)\n",
    "# coords: shape (n_nodes, 2)\n",
    "# connect: shape (n_nodes_per_elem, n_elems)\n",
    "\n",
    "# --- Identify boundaries ---\n",
    "boundary_nodes, boundary_edges = pre.identify_rect_boundaries(\n",
    "    coords, connect, ele_type, x_lower=0.0, x_upper=L, y_lower=0.0, y_upper=H\n",
    ")\n",
    "\n",
    "# 1) Clamp the left edge: fix x- and y-displacements = 0\n",
    "fixed_left = pre.assign_fixed_nodes_rect(boundary_nodes, \"left\", 0.0, 0.0)\n",
    "\n",
    "# 2) Uniform downward traction on the top edge (y=H)\n",
    "# Let q be negative in the y-direction\n",
    "q = -1  # load per unit length in x\n",
    "# For a 2D plane strain problem, this is a traction (tx, ty) = (0, q)\n",
    "dload_info = pre.assign_uniform_load_rect(boundary_edges, \"top\", 0.0, q)"
   ]
  },
  {
   "cell_type": "code",
   "execution_count": 26,
   "id": "13422a65",
   "metadata": {},
   "outputs": [],
   "source": [
    "# Combine boundary conditions\n",
    "fixed_nodes = fixed_left  # only the left edge is clamped"
   ]
  },
  {
   "cell_type": "markdown",
   "id": "e55313aa",
   "metadata": {},
   "source": [
    "Assigning material properties to the domain"
   ]
  },
  {
   "cell_type": "code",
   "execution_count": 27,
   "id": "b59e6ca2",
   "metadata": {},
   "outputs": [
    {
     "name": "stdout",
     "output_type": "stream",
     "text": [
      "Material properties: mu=38461.538, kappa=83333.333\n"
     ]
    }
   ],
   "source": [
    "# --- Material properties ---\n",
    "E = 100000.0\n",
    "nu = 0.3\n",
    "# mu = E / (2.0 * (1.0 + nu))\n",
    "# kappa = E / (3.0 * (1.0 - 2.0 * nu))\n",
    "mu = E / (2.0 * (1.0 + nu))\n",
    "#kappa = E / (2.0 * (1.0 - nu))\n",
    "kappa = E / (3.0 * (1.0 - 2.0 * nu))\n",
    "\n",
    "material_props = np.array([mu, kappa])\n",
    "print(f\"Material properties: mu={mu:.3f}, kappa={kappa:.3f}\")"
   ]
  },
  {
   "cell_type": "markdown",
   "id": "7b47d749",
   "metadata": {},
   "source": [
    "Solver step"
   ]
  },
  {
   "cell_type": "code",
   "execution_count": 28,
   "id": "d2c941ff",
   "metadata": {},
   "outputs": [
    {
     "name": "stdout",
     "output_type": "stream",
     "text": [
      "Step 0, load factor = 0.200\n",
      "Iteration 1, Correction=1.000000e+00, Residual=3.178973e-04, tolerance=1.000000e-10\n",
      "Iteration 2, Correction=1.534369e-03, Residual=2.335916e-03, tolerance=1.000000e-10\n",
      "Iteration 3, Correction=4.288548e-06, Residual=1.672445e-08, tolerance=1.000000e-10\n",
      "Iteration 4, Correction=3.575216e-13, Residual=1.050852e-13, tolerance=1.000000e-10\n",
      "Step 1, load factor = 0.400\n",
      "Iteration 1, Correction=5.001011e-01, Residual=3.178973e-04, tolerance=1.000000e-10\n",
      "Iteration 2, Correction=7.665300e-04, Residual=2.340229e-03, tolerance=1.000000e-10\n",
      "Iteration 3, Correction=2.089098e-06, Residual=1.673326e-08, tolerance=1.000000e-10\n",
      "Iteration 4, Correction=1.404963e-13, Residual=9.869517e-14, tolerance=1.000000e-10\n",
      "Step 2, load factor = 0.600\n",
      "Iteration 1, Correction=3.335097e-01, Residual=3.178973e-04, tolerance=1.000000e-10\n",
      "Iteration 2, Correction=5.105927e-04, Residual=2.344425e-03, tolerance=1.000000e-10\n",
      "Iteration 3, Correction=1.355482e-06, Residual=1.674159e-08, tolerance=1.000000e-10\n",
      "Iteration 4, Correction=1.149641e-13, Residual=9.869486e-14, tolerance=1.000000e-10\n",
      "Step 3, load factor = 0.800\n",
      "Iteration 1, Correction=2.502187e-01, Residual=3.178973e-04, tolerance=1.000000e-10\n",
      "Iteration 2, Correction=3.826308e-04, Residual=2.348505e-03, tolerance=1.000000e-10\n",
      "Iteration 3, Correction=9.883323e-07, Residual=1.674944e-08, tolerance=1.000000e-10\n",
      "Iteration 4, Correction=8.008221e-14, Residual=1.062027e-13, tolerance=1.000000e-10\n",
      "Step 4, load factor = 1.000\n",
      "Iteration 1, Correction=2.002438e-01, Residual=3.178973e-04, tolerance=1.000000e-10\n",
      "Iteration 2, Correction=3.058592e-04, Residual=2.352467e-03, tolerance=1.000000e-10\n",
      "Iteration 3, Correction=7.677774e-07, Residual=1.675683e-08, tolerance=1.000000e-10\n",
      "Iteration 4, Correction=5.761671e-14, Residual=1.036084e-13, tolerance=1.000000e-10\n"
     ]
    }
   ],
   "source": [
    "# Number of incremental load steps\n",
    "nr_num_steps = 5\n",
    "\n",
    "# --- Solve with your hyperelastic solver ---\n",
    "displacements_all, nr_info_all = hyperelastic_solver(\n",
    "    material_props,\n",
    "    ele_type,\n",
    "    coords.T,      # shape (2, n_nodes)\n",
    "    connect.T,     # shape (n_nodes_per_elem, n_elems)\n",
    "    fixed_nodes,\n",
    "    dload_info,\n",
    "    nr_print=True,\n",
    "    nr_num_steps=nr_num_steps,\n",
    "    nr_tol=1e-10,\n",
    "    nr_maxit=30,\n",
    ")\n",
    "\n",
    "final_disp = displacements_all[-1]  # shape: (n_nodes*ndof,)\n"
   ]
  },
  {
   "cell_type": "markdown",
   "id": "a5e720c1",
   "metadata": {},
   "source": [
    "Post processing: calculating tip deflection"
   ]
  },
  {
   "cell_type": "code",
   "execution_count": 29,
   "id": "e3a1ae05",
   "metadata": {},
   "outputs": [],
   "source": [
    "# --- Compute the tip displacement from the FEA result ---\n",
    "# We'll pick a node near x=L, y=H/2\n",
    "tip_node = None\n",
    "tol = 1e-3\n",
    "for i, (x, y) in enumerate(coords):\n",
    "    if abs(x - L) < tol and abs(y - H/2) < H/(2*ny):\n",
    "        tip_node = i\n",
    "        break\n",
    "if tip_node is None:\n",
    "    raise ValueError(\"Could not find tip node near x=L, y=H/2.\")\n",
    "\n",
    "tip_disp_y = final_disp[ndof*tip_node + 1]  # the y-component of displacement"
   ]
  },
  {
   "cell_type": "code",
   "execution_count": 30,
   "id": "a7260bc9",
   "metadata": {},
   "outputs": [
    {
     "name": "stdout",
     "output_type": "stream",
     "text": [
      "Tip node index: 243, coordinates=[10.   0.5]\n",
      "Computed tip deflection (y): -0.142029\n",
      "Analytical Euler-Bernoulli deflection: -0.136500\n"
     ]
    }
   ],
   "source": [
    "# --- Compare with Euler–Bernoulli formula for small deflection ---\n",
    "mu = material_props[0]\n",
    "# We'll guess E = 3 mu (plane stress, near incompressible) or 2 mu(1 + nu) for plane strain, etc.\n",
    "# --- Analytical Solution ---\n",
    "# For a cantilever beam under uniformly distributed load q:\n",
    "# Euler–Bernoulli tip deflection: w(L) = q * L^4 / (8 * E * I)\n",
    "# E_eff = E * (1 - nu) / ((1 + nu) * (1 - 2*nu))\n",
    "E_eff = E / (1 - nu ** 2.0)\n",
    "I = H ** 3 / 12.0\n",
    "w_analytical = q * L ** 4 / (8.0 * E_eff * I)\n",
    "\n",
    "print(f\"Tip node index: {tip_node}, coordinates={coords[tip_node]}\")\n",
    "print(f\"Computed tip deflection (y): {tip_disp_y:.6f}\")\n",
    "print(f\"Analytical Euler-Bernoulli deflection: {w_analytical:.6f}\")"
   ]
  },
  {
   "cell_type": "code",
   "execution_count": 21,
   "id": "3ce64714",
   "metadata": {},
   "outputs": [
    {
     "name": "stdout",
     "output_type": "stream",
     "text": [
      "Absolute error = 5.528741e-03\n"
     ]
    }
   ],
   "source": [
    "# --- Evaluate error ---\n",
    "error = abs(tip_disp_y - w_analytical)\n",
    "print(f\"Absolute error = {error:.6e}\")\n",
    "\n",
    "# --- Plot the mesh with the final deformed shape ---\n",
    "\n",
    "img_name = \"tutorial1.gif\"\n",
    "fname = str(tutorials_dir / img_name)\n",
    "viz.make_deformation_gif(displacements_all, coords, connect, ele_type, fname)"
   ]
  },
  {
   "cell_type": "markdown",
   "id": "b0b418aa",
   "metadata": {},
   "source": [
    "### Animated Displacement Field\n",
    "\n",
    "![Displacement Animation](tutorial1.gif)"
   ]
  }
 ],
 "metadata": {
  "kernelspec": {
   "display_name": "finite-element-analysis-env",
   "language": "python",
   "name": "python3"
  },
  "language_info": {
   "codemirror_mode": {
    "name": "ipython",
    "version": 3
   },
   "file_extension": ".py",
   "mimetype": "text/x-python",
   "name": "python",
   "nbconvert_exporter": "python",
   "pygments_lexer": "ipython3",
   "version": "3.12.9"
  }
 },
 "nbformat": 4,
 "nbformat_minor": 5
}
