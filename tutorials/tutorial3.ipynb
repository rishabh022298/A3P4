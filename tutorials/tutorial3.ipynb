{
 "cells": [
  {
   "cell_type": "markdown",
   "id": "809f6997",
   "metadata": {},
   "source": [
    "# Tutorial 3: Failure to converge\n",
    "\n",
    "This is achieved by fixing just one node which makes stiffness matrix ill conditioned."
   ]
  },
  {
   "cell_type": "code",
   "execution_count": 1,
   "id": "f6943306",
   "metadata": {},
   "outputs": [],
   "source": [
    "from finiteelementanalysis import pre_process as pre\n",
    "from finiteelementanalysis import pre_process_demo_helper_fcns as pre_demo\n",
    "from finiteelementanalysis.solver import hyperelastic_solver\n",
    "from finiteelementanalysis import visualize as viz\n",
    "import matplotlib.pyplot as plt\n",
    "import numpy as np\n",
    "from pathlib import Path"
   ]
  },
  {
   "cell_type": "code",
   "execution_count": 2,
   "id": "81c91dcb",
   "metadata": {},
   "outputs": [],
   "source": [
    "# for saving files later\n",
    "tutorials_dir = Path.cwd()"
   ]
  },
  {
   "cell_type": "code",
   "execution_count": 3,
   "id": "073a4e60",
   "metadata": {},
   "outputs": [],
   "source": [
    "# Set up a 2D cantilever beam under a uniform downward traction on the top edge.\n",
    "# The left edge (x=0) is clamped. For small deflection, compare the tip displacement\n",
    "# at x=L, y=H/2 with the Euler–Bernoulli beam formula:\n",
    "# For a cantilever of length L, height H, uniform load q, plane strain,\n",
    "#   Material:\n",
    "#         E = 100000, nu = 0.3.\n",
    "#     Derived:\n",
    "#         mu    = E/(2*(1+nu))\n",
    "#         kappa = E/(3*(1-2*nu))\n",
    "    \n",
    "#     Analytical tip deflection for a cantilever beam under uniform load q is:\n",
    "#         w(L) = q*L^4 / (8*E*I),   I = H^3/12.\n",
    "\n",
    "\n",
    "# --- Beam geometry ---\n",
    "L = 10.0   # length in x\n",
    "H = 1.0    # height in y\n",
    "nx = 6    # number of elements along length\n",
    "ny = 1     # number of elements along height\n",
    "\n",
    "ele_type = \"D2_nn3_tri\"  # 2D, 3-node triangle (quad)\n",
    "ndof = 2                  # 2 DOFs per node (x, y)"
   ]
  },
  {
   "cell_type": "code",
   "execution_count": null,
   "id": "34591ffb",
   "metadata": {},
   "outputs": [],
   "source": [
    "# Generate a rectangular mesh\n",
    "coords, connect = pre.generate_rect_mesh_2d(ele_type, 0.0, 0.0, L, H, nx, ny)\n",
    "# coords: shape (n_nodes, 2)\n",
    "# connect: shape (n_nodes_per_elem, n_elems)\n",
    "\n",
    "# --- Identify boundaries ---\n",
    "boundary_nodes, boundary_edges = pre.identify_rect_boundaries(\n",
    "    coords, connect, ele_type, x_lower=0.0, x_upper=L, y_lower=0.0, y_upper=H\n",
    ")\n",
    "\n",
    "# Uniform downward traction on the top edge (y=H)\n",
    "# Let q be negative in the y-direction\n",
    "q = -1  # load per unit length in x\n",
    "# For a 2D plane strain problem, this is a traction (tx, ty) = (0, q)\n",
    "dload_info = pre.assign_uniform_load_rect(boundary_edges, \"top\", 0.0, q)"
   ]
  },
  {
   "cell_type": "code",
   "execution_count": null,
   "id": "13422a65",
   "metadata": {},
   "outputs": [],
   "source": [
    "# Combine boundary conditions \n",
    "fixed_nodes = np.array([\n",
    "    [0],      # DOF 0 (x-direction of node 0)\n",
    "    [1.0],    # Load stepping multiplier\n",
    "    [0.0]     # Prescribed value\n",
    "])"
   ]
  },
  {
   "cell_type": "code",
   "execution_count": 6,
   "id": "b59e6ca2",
   "metadata": {},
   "outputs": [
    {
     "name": "stdout",
     "output_type": "stream",
     "text": [
      "Material properties: mu=38461.538, kappa=83333.333\n"
     ]
    }
   ],
   "source": [
    "# --- Material properties ---\n",
    "E = 100000.0\n",
    "nu = 0.3\n",
    "# mu = E / (2.0 * (1.0 + nu))\n",
    "# kappa = E / (3.0 * (1.0 - 2.0 * nu))\n",
    "mu = E / (2.0 * (1.0 + nu))\n",
    "#kappa = E / (2.0 * (1.0 - nu))\n",
    "kappa = E / (3.0 * (1.0 - 2.0 * nu))\n",
    "\n",
    "material_props = np.array([mu, kappa])\n",
    "print(f\"Material properties: mu={mu:.3f}, kappa={kappa:.3f}\")"
   ]
  },
  {
   "cell_type": "code",
   "execution_count": 7,
   "id": "d2c941ff",
   "metadata": {},
   "outputs": [
    {
     "name": "stdout",
     "output_type": "stream",
     "text": [
      "Step 0, load factor = 1.000\n",
      "Iteration 1, Correction=1.000000e+00, Residual=1.395957e-01, tolerance=1.000000e-10\n",
      "Iteration 2, Correction=1.084881e+00, Residual=1.973234e+34, tolerance=1.000000e-10\n",
      "Iteration 3, Correction=6.501263e-01, Residual=6.413592e+33, tolerance=1.000000e-10\n",
      "Iteration 4, Correction=2.032814e-01, Residual=1.900324e+33, tolerance=1.000000e-10\n",
      "Iteration 5, Correction=1.884458e-01, Residual=5.630588e+32, tolerance=1.000000e-10\n",
      "Iteration 6, Correction=1.504421e-01, Residual=1.668322e+32, tolerance=1.000000e-10\n",
      "Iteration 7, Correction=3.849221e-02, Residual=4.943178e+31, tolerance=1.000000e-10\n",
      "Iteration 8, Correction=2.710188e-02, Residual=1.464645e+31, tolerance=1.000000e-10\n",
      "Iteration 9, Correction=2.247448e-02, Residual=4.339689e+30, tolerance=1.000000e-10\n",
      "Iteration 10, Correction=2.318058e-02, Residual=1.285834e+30, tolerance=1.000000e-10\n",
      "Iteration 11, Correction=1.520661e-02, Residual=3.809878e+29, tolerance=1.000000e-10\n",
      "Iteration 12, Correction=8.824632e-03, Residual=1.128853e+29, tolerance=1.000000e-10\n",
      "Iteration 13, Correction=5.270770e-03, Residual=3.344749e+28, tolerance=1.000000e-10\n",
      "Iteration 14, Correction=5.262735e-03, Residual=9.910368e+27, tolerance=1.000000e-10\n",
      "Iteration 15, Correction=5.906594e-03, Residual=2.936405e+27, tolerance=1.000000e-10\n",
      "Iteration 16, Correction=3.021704e-03, Residual=8.700460e+26, tolerance=1.000000e-10\n",
      "Iteration 17, Correction=9.300390e-04, Residual=2.577914e+26, tolerance=1.000000e-10\n",
      "Iteration 18, Correction=5.091739e-04, Residual=7.638264e+25, tolerance=1.000000e-10\n",
      "Iteration 19, Correction=3.892291e-04, Residual=2.263190e+25, tolerance=1.000000e-10\n",
      "Iteration 20, Correction=2.214663e-04, Residual=6.705755e+24, tolerance=1.000000e-10\n",
      "Iteration 21, Correction=2.082118e-04, Residual=1.986881e+24, tolerance=1.000000e-10\n",
      "Iteration 22, Correction=7.020325e-05, Residual=5.887025e+23, tolerance=1.000000e-10\n",
      "Iteration 23, Correction=1.332355e-04, Residual=1.744349e+23, tolerance=1.000000e-10\n",
      "Iteration 24, Correction=3.761711e-05, Residual=5.161384e+22, tolerance=1.000000e-10\n",
      "Iteration 25, Correction=5.410375e-05, Residual=1.533913e+22, tolerance=1.000000e-10\n",
      "Iteration 26, Correction=3.242796e-05, Residual=4.803060e+21, tolerance=1.000000e-10\n",
      "Iteration 27, Correction=1.622123e-05, Residual=1.508615e+21, tolerance=1.000000e-10\n",
      "Iteration 28, Correction=2.632919e-05, Residual=8.404488e+20, tolerance=1.000000e-10\n",
      "Iteration 29, Correction=1.352433e-05, Residual=6.133431e+20, tolerance=1.000000e-10\n",
      "Iteration 30, Correction=3.287942e-05, Residual=4.378656e+20, tolerance=1.000000e-10\n"
     ]
    }
   ],
   "source": [
    "# Number of incremental load steps\n",
    "nr_num_steps = 1\n",
    "\n",
    "# --- Solve with your hyperelastic solver ---\n",
    "displacements_all, nr_info_all = hyperelastic_solver(\n",
    "    material_props,\n",
    "    ele_type,\n",
    "    coords.T,      # shape (2, n_nodes)\n",
    "    connect.T,     # shape (n_nodes_per_elem, n_elems)\n",
    "    fixed_nodes,\n",
    "    dload_info,\n",
    "    nr_print=True,\n",
    "    nr_num_steps=nr_num_steps,\n",
    "    nr_tol=1e-10,\n",
    "    nr_maxit=30,\n",
    ")\n",
    "\n",
    "final_disp = displacements_all[-1]  # shape: (n_nodes*ndof,)\n"
   ]
  },
  {
   "cell_type": "markdown",
   "id": "d0b71838",
   "metadata": {},
   "source": [
    "User can see that the Residual has become very large and the soler failed to converge within the provided maximum number of iterations."
   ]
  },
  {
   "cell_type": "code",
   "execution_count": 8,
   "id": "e3a1ae05",
   "metadata": {},
   "outputs": [
    {
     "ename": "ValueError",
     "evalue": "Could not find tip node near x=L, y=H/2.",
     "output_type": "error",
     "traceback": [
      "\u001b[31m---------------------------------------------------------------------------\u001b[39m",
      "\u001b[31mValueError\u001b[39m                                Traceback (most recent call last)",
      "\u001b[36mCell\u001b[39m\u001b[36m \u001b[39m\u001b[32mIn[8]\u001b[39m\u001b[32m, line 10\u001b[39m\n\u001b[32m      8\u001b[39m         \u001b[38;5;28;01mbreak\u001b[39;00m\n\u001b[32m      9\u001b[39m \u001b[38;5;28;01mif\u001b[39;00m tip_node \u001b[38;5;129;01mis\u001b[39;00m \u001b[38;5;28;01mNone\u001b[39;00m:\n\u001b[32m---> \u001b[39m\u001b[32m10\u001b[39m     \u001b[38;5;28;01mraise\u001b[39;00m \u001b[38;5;167;01mValueError\u001b[39;00m(\u001b[33m\"\u001b[39m\u001b[33mCould not find tip node near x=L, y=H/2.\u001b[39m\u001b[33m\"\u001b[39m)\n\u001b[32m     12\u001b[39m tip_disp_y = final_disp[ndof*tip_node + \u001b[32m1\u001b[39m]  \u001b[38;5;66;03m# the y-component of displacement\u001b[39;00m\n",
      "\u001b[31mValueError\u001b[39m: Could not find tip node near x=L, y=H/2."
     ]
    }
   ],
   "source": [
    "# --- Compute the tip displacement from the FEA result ---\n",
    "# We'll pick a node near x=L, y=H/2\n",
    "tip_node = None\n",
    "tol = 1e-3\n",
    "for i, (x, y) in enumerate(coords):\n",
    "    if abs(x - L) < tol and abs(y - H/2) < H/(2*ny):\n",
    "        tip_node = i\n",
    "        break\n",
    "if tip_node is None:\n",
    "    raise ValueError(\"Could not find tip node near x=L, y=H/2.\")\n",
    "\n",
    "tip_disp_y = final_disp[ndof*tip_node + 1]  # the y-component of displacement"
   ]
  },
  {
   "cell_type": "markdown",
   "id": "b0412e86",
   "metadata": {},
   "source": [
    "Here we can see the effect of making a poor mesh as post processing also becomes difficult as the point of interest is far away from the any point on mesh."
   ]
  }
 ],
 "metadata": {
  "kernelspec": {
   "display_name": "finite-element-analysis-env",
   "language": "python",
   "name": "python3"
  },
  "language_info": {
   "codemirror_mode": {
    "name": "ipython",
    "version": 3
   },
   "file_extension": ".py",
   "mimetype": "text/x-python",
   "name": "python",
   "nbconvert_exporter": "python",
   "pygments_lexer": "ipython3",
   "version": "3.12.9"
  }
 },
 "nbformat": 4,
 "nbformat_minor": 5
}
